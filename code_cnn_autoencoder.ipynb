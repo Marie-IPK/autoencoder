{
 "cells": [
  {
   "cell_type": "code",
   "execution_count": 4,
   "metadata": {},
   "outputs": [
    {
     "ename": "ModuleNotFoundError",
     "evalue": "No module named 'torch'",
     "output_type": "error",
     "traceback": [
      "\u001b[1;31m---------------------------------------------------------------------------\u001b[0m",
      "\u001b[1;31mModuleNotFoundError\u001b[0m                       Traceback (most recent call last)",
      "Cell \u001b[1;32mIn[4], line 1\u001b[0m\n\u001b[1;32m----> 1\u001b[0m \u001b[38;5;28;01mimport\u001b[39;00m \u001b[38;5;21;01mtorch\u001b[39;00m\n\u001b[0;32m      2\u001b[0m \u001b[38;5;28;01mimport\u001b[39;00m \u001b[38;5;21;01mtorch\u001b[39;00m\u001b[38;5;21;01m.\u001b[39;00m\u001b[38;5;21;01mnn\u001b[39;00m \u001b[38;5;28;01mas\u001b[39;00m \u001b[38;5;21;01mnn\u001b[39;00m  \n\u001b[0;32m      3\u001b[0m \u001b[38;5;28;01mimport\u001b[39;00m \u001b[38;5;21;01mtorch\u001b[39;00m\u001b[38;5;21;01m.\u001b[39;00m\u001b[38;5;21;01moptim\u001b[39;00m \u001b[38;5;28;01mas\u001b[39;00m \u001b[38;5;21;01moptim\u001b[39;00m\n",
      "\u001b[1;31mModuleNotFoundError\u001b[0m: No module named 'torch'"
     ]
    }
   ],
   "source": [
    "import torch\n",
    "import torch.nn as nn  \n",
    "import torch.optim as optim\n",
    "from torchvision import datasets, transforms\n",
    "from matplotlib import pyplot as plt\n",
    "import numpy as np\n",
    "import csv"
   ]
  },
  {
   "cell_type": "code",
   "execution_count": null,
   "metadata": {},
   "outputs": [],
   "source": [
    "transform = transforms.ToTensor() #creat a tensor\n",
    "\n",
    "mnist_data = datasets.MNIST(root='./data', train=True, download=True, transform= transform)\n",
    "data_loader = torch.utils.data.DataLoader(dataset=mnist_data, batch_size=64, shuffle=True)\n",
    "#type(iter(data_loader))"
   ]
  },
  {
   "cell_type": "code",
   "execution_count": null,
   "metadata": {},
   "outputs": [],
   "source": [
    "images, labels  = next(iter(data_loader))\n",
    "print(torch.min(images), torch.max(images))"
   ]
  },
  {
   "cell_type": "code",
   "execution_count": null,
   "metadata": {},
   "outputs": [],
   "source": [
    "class autoencoder_cnn(nn.Module):\n",
    "    def __init__(self) :\n",
    "        super().__init__()\n",
    "        self.encorder = nn.Sequential(nn.Conv2d(1, 16, 3, stride=2, padding=1),\n",
    "                                      nn.ReLU(),\n",
    "                                      nn.Conv2d(16, 32, 3, stride=2, padding=1),\n",
    "                                      nn.ReLU(),\n",
    "                                      nn.Conv2d(32, 64, 7),\n",
    "                                      )\n",
    "        self.decoder = nn.Sequential(nn.ConvTranspose2d(64, 32, 7),\n",
    "                                      nn.ReLU(),\n",
    "                                      nn.ConvTranspose2d(32, 16, 3, stride=2, padding=1, output_padding=1),\n",
    "                                      nn.ReLU(),\n",
    "                                      nn.ConvTranspose2d(16, 1, 3, stride=2, padding=1, output_padding=1),\n",
    "                                      nn.Sigmoid() # reduce de size of picture to 3\n",
    "                                      )\n",
    "        \n",
    "        \n",
    "    def forward(self, x):\n",
    "        encoded = self.encorder(x)\n",
    "        decoded = self.decoder(encoded)\n",
    "        return decoded    "
   ]
  },
  {
   "cell_type": "code",
   "execution_count": null,
   "metadata": {},
   "outputs": [],
   "source": [
    "model = autoencoder_cnn()\n",
    "criterion = nn.MSELoss()\n",
    "optimizer = torch.optim.Adam(model.parameters(), lr=1e-3, weight_decay=1e-5)"
   ]
  },
  {
   "cell_type": "code",
   "execution_count": null,
   "metadata": {},
   "outputs": [],
   "source": [
    "num_epochs = 10\n",
    "outputs = []\n",
    "for epoch in range(num_epochs):\n",
    "    for (img, _) in data_loader:\n",
    "        #img = img.reshape(-1, 28 * 28)\n",
    "        recon = model(img)\n",
    "        loss = criterion(recon, img)\n",
    "\n",
    "        optimizer.zero_grad()\n",
    "        loss.backward()\n",
    "        optimizer.step()\n",
    "\n",
    "    print(f'Epoch : {epoch + 1}, Loss : {loss.item() : .4f}')\n",
    "    outputs.append((epoch, img, recon))"
   ]
  },
  {
   "cell_type": "code",
   "execution_count": null,
   "metadata": {},
   "outputs": [],
   "source": [
    "for k in range (0, num_epochs, 4) :\n",
    "    plt.figure(figsize=(9,2))\n",
    "    plt.gray()\n",
    "\n",
    "    imgs = outputs[k][1].detach().numpy()\n",
    "    recon = outputs[k][2].detach().numpy()\n",
    "\n",
    "    for i, item in enumerate(imgs):\n",
    "        if i >= 9 : break\n",
    "        plt.subplot(2, 9, i+1)\n",
    "        item = item.reshape(-1, 28, 28)\n",
    "        plt.imshow(item[0])\n",
    "\n",
    "for i, item in enumerate(recon):\n",
    "    if i >= 9 : break\n",
    "    plt.subplot(2, 9, 9 + i + 1)\n",
    "    item = item.reshape(-1, 28, 28)\n",
    "    plt.imshow(item[0])"
   ]
  },
  {
   "cell_type": "code",
   "execution_count": null,
   "metadata": {},
   "outputs": [],
   "source": [
    "encoded_data = []\n",
    "\n",
    "for (img, _) in data_loader:\n",
    "    img = img.reshape(-1, 28 * 28)\n",
    "    recon = model(img)\n",
    "    encoded = model.encorder(img)\n",
    "    encoded_data.append(encoded.detach().numpy())"
   ]
  },
  {
   "cell_type": "code",
   "execution_count": null,
   "metadata": {},
   "outputs": [],
   "source": [
    "with open('encoded_data.csv', 'w', newline='') as file:\n",
    "    writer = csv.writer(file)\n",
    "    writer.writerows(encoded_data)"
   ]
  }
 ],
 "metadata": {
  "kernelspec": {
   "display_name": "env",
   "language": "python",
   "name": "python3"
  },
  "language_info": {
   "codemirror_mode": {
    "name": "ipython",
    "version": 3
   },
   "file_extension": ".py",
   "mimetype": "text/x-python",
   "name": "python",
   "nbconvert_exporter": "python",
   "pygments_lexer": "ipython3",
   "version": "3.11.6"
  }
 },
 "nbformat": 4,
 "nbformat_minor": 2
}
